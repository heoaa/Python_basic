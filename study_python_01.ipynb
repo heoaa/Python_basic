{
 "cells": [
  {
   "cell_type": "markdown",
   "metadata": {},
   "source": [
    "## 변수, 데이터타입"
   ]
  },
  {
   "cell_type": "markdown",
   "metadata": {},
   "source": [
    "#### ▶ 전역변수, 지역변수"
   ]
  },
  {
   "cell_type": "code",
   "execution_count": 1,
   "metadata": {},
   "outputs": [
    {
     "name": "stdout",
     "output_type": "stream",
     "text": [
      "1\n",
      "1\n",
      "11\n"
     ]
    }
   ],
   "source": [
    "a = 1       # 전역(global)변수\n",
    "print(a)\n",
    "\n",
    "def vartest(x) :    # 지역변수 (x 를 a로 사용해도 무관)\n",
    "    print(x)\n",
    "    x = x + 10\n",
    "    return x\n",
    "\n",
    "# def vartest(a) :    \n",
    "#     print(a)\n",
    "#     a = a + 10\n",
    "#     return a\n",
    "\n",
    "def vartest() : \n",
    "    global a\n",
    "    print(a)\n",
    "    a = a + 10\n",
    "    return a\n",
    "\n",
    "\n",
    "a=vartest()\n",
    "print(a)"
   ]
  },
  {
   "cell_type": "markdown",
   "metadata": {},
   "source": [
    "#### ▶ 데이터타입"
   ]
  },
  {
   "cell_type": "code",
   "execution_count": 1,
   "metadata": {},
   "outputs": [
    {
     "name": "stdout",
     "output_type": "stream",
     "text": [
      "<class 'int'>\n",
      "<class 'float'>\n",
      "<class 'bool'>\n"
     ]
    }
   ],
   "source": [
    "#  데이터타입 확인\n",
    "print(type(1))\n",
    "\n",
    "print(type(3.14))\n",
    "\n",
    "z=False\n",
    "print(type(z))"
   ]
  },
  {
   "cell_type": "markdown",
   "metadata": {},
   "source": [
    "##### ▷ 문자열"
   ]
  },
  {
   "cell_type": "code",
   "execution_count": null,
   "metadata": {},
   "outputs": [],
   "source": [
    "# \\n : 줄바꿈(탈출문자)\n",
    "# \\t : tab\n",
    "from distutils.spawn import spawn\n",
    "\n",
    "\n",
    "bruce_eckel = ' Life is short. \\n You need \\tPython.'\n",
    "print(bruce_eckel)\n",
    "\n",
    "# 여러줄 문자열\n",
    "multi_line = '''Life is short.\n",
    "You need Python.\n",
    "And I need C#, too.\n",
    "'''\n",
    "print(multi_line)"
   ]
  },
  {
   "cell_type": "markdown",
   "metadata": {},
   "source": [
    "##### ▷ 불(bool)형"
   ]
  },
  {
   "cell_type": "code",
   "execution_count": null,
   "metadata": {},
   "outputs": [],
   "source": [
    "print(1 + 1 == 1)\n",
    "print(bool(1))\n",
    "print(bool(0))"
   ]
  },
  {
   "cell_type": "markdown",
   "metadata": {},
   "source": [
    "##### ▷ 리스트(배열)"
   ]
  },
  {
   "cell_type": "code",
   "execution_count": null,
   "metadata": {},
   "outputs": [],
   "source": [
    "b = [1, 2, 3, 4]\n",
    "print(b)\n",
    "\n",
    "# append(값) : 리스트 마지막에 해당 값을 추가\n",
    "b.append(5)\n",
    "print(b)\n",
    "\n",
    "# insert(위치, 값) : 원하는 위치(인덱스)에 값 추가\n",
    "b.insert(3, 10)\n",
    "print(b)\n",
    "\n",
    "b.sort()     # 오름차순 정렬\n",
    "print(b)\n",
    "\n",
    "b.reverse()  # 내림차순 정렬\n",
    "print(b)\n",
    "\n",
    "b.remove(10) # 원소 삭제\n",
    "print(b)\n",
    "\n",
    "print(type(b))\n",
    "\n",
    "print(b[2])"
   ]
  },
  {
   "cell_type": "markdown",
   "metadata": {},
   "source": [
    "##### ▷ 튜플(tuple)"
   ]
  },
  {
   "cell_type": "code",
   "execution_count": null,
   "metadata": {},
   "outputs": [],
   "source": [
    "# c.append(5) : 튜플은 추가, 수정, 삭제가 불가능하므로 에러 발생\n",
    "c = (1, 2, 3, 4)\n",
    "print(c)\n",
    "\n",
    "print(c[2])"
   ]
  },
  {
   "cell_type": "markdown",
   "metadata": {},
   "source": [
    "##### ▷ 딕셔너리 "
   ]
  },
  {
   "cell_type": "code",
   "execution_count": 9,
   "metadata": {},
   "outputs": [
    {
     "name": "stdout",
     "output_type": "stream",
     "text": [
      "{'name': '피터 파커', 'age': 18, 'weapon': '웹슈터', 'memberOfAvengers': True}\n",
      "피터 파커\n"
     ]
    }
   ],
   "source": [
    "# key:value의 쌍\n",
    "spiderman ={'name' : '피터 파커',\n",
    "            'age' : 18,\n",
    "            'weapon' : '웹슈터',\n",
    "            'memberOfAvengers' : True }\n",
    "\n",
    "print(spiderman)\n",
    "print(spiderman['name'])"
   ]
  },
  {
   "cell_type": "markdown",
   "metadata": {},
   "source": [
    "##### ▷ 집합"
   ]
  },
  {
   "cell_type": "code",
   "execution_count": 2,
   "metadata": {},
   "outputs": [],
   "source": [
    "# set : 자료 중복 제거로도 활용"
   ]
  }
 ],
 "metadata": {
  "interpreter": {
   "hash": "38ae1ba9371524da054e8e3fbefd778d16b5a8ac7937a3f395010f627bb73919"
  },
  "kernelspec": {
   "display_name": "Python 3.9.12 64-bit",
   "language": "python",
   "name": "python3"
  },
  "language_info": {
   "codemirror_mode": {
    "name": "ipython",
    "version": 3
   },
   "file_extension": ".py",
   "mimetype": "text/x-python",
   "name": "python",
   "nbconvert_exporter": "python",
   "pygments_lexer": "ipython3",
   "version": "3.9.12"
  },
  "orig_nbformat": 4
 },
 "nbformat": 4,
 "nbformat_minor": 2
}
