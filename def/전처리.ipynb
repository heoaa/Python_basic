{
 "cells": [
  {
   "cell_type": "markdown",
   "metadata": {},
   "source": [
    "### ▶ 이상치 데이터 조회 함수"
   ]
  },
  {
   "cell_type": "code",
   "execution_count": null,
   "metadata": {},
   "outputs": [],
   "source": [
    "def outliers(data) :\n",
    "    q1, q3 = np.percentile(data, [25,75])\n",
    "    IQR = q3 - q1\n",
    "    upper_bound = q3 + (1.5*IQR)\n",
    "    lower_bound = q1 - (1.5*IQR)\n",
    "    outlier = df_drop_allow[(data > upper_bound) | (data < lower_bound)]\n",
    "    return outlier"
   ]
  },
  {
   "cell_type": "code",
   "execution_count": null,
   "metadata": {},
   "outputs": [],
   "source": [
    "outliers(df_drop_allow['나이'])"
   ]
  },
  {
   "cell_type": "code",
   "execution_count": null,
   "metadata": {},
   "outputs": [],
   "source": [
    "# solution\n",
    "def outliers_iqr(dframe, data) :\n",
    "    q1, q3 = np.percentile(data, [25,75])\n",
    "    IQR = q3 - q1\n",
    "    upper_bound = q3 + (1.5*IQR)\n",
    "    lower_bound = q1 - (1.5*IQR)\n",
    "    \n",
    "    condition = (data > upper_bound) | (data < lower_bound)\n",
    "    print('Q3 : ', upper_bound)\n",
    "    print('Q1 : ', lower_bound)\n",
    "    print(len(dframe[condition]))\n",
    "    return dframe[condition]"
   ]
  },
  {
   "cell_type": "code",
   "execution_count": null,
   "metadata": {},
   "outputs": [],
   "source": [
    "outliers_iqr(df_drop_allow,df_drop_allow['이용거리'])"
   ]
  }
 ],
 "metadata": {
  "interpreter": {
   "hash": "38ae1ba9371524da054e8e3fbefd778d16b5a8ac7937a3f395010f627bb73919"
  },
  "kernelspec": {
   "display_name": "Python 3.9.12 64-bit",
   "language": "python",
   "name": "python3"
  },
  "language_info": {
   "name": "python",
   "version": "3.9.12"
  },
  "orig_nbformat": 4
 },
 "nbformat": 4,
 "nbformat_minor": 2
}
